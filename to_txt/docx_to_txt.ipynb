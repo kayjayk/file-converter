{
 "cells": [
  {
   "cell_type": "code",
   "execution_count": 5,
   "metadata": {},
   "outputs": [],
   "source": [
    "import docx\n",
    "import os\n",
    "import glob\n",
    "\n",
    "def getText(filename):\n",
    "    doc = docx.Document(filename)\n",
    "    fullText = []\n",
    "    for para in doc.paragraphs:\n",
    "        fullText.append(para.text)\n",
    "    return '\\n'.join(fullText)"
   ]
  },
  {
   "cell_type": "code",
   "execution_count": 7,
   "metadata": {},
   "outputs": [],
   "source": [
    "save_dir = '../../../../data/00_nh_poc/11_legal_advice_hwp_128/text_from_doc_14/'\n",
    "for eachfile in glob.glob(\"../../../../data/00_nh_poc/11_legal_advice_hwp_128/hwp/\" + \"*.docx\"):\n",
    "    txt = getText(eachfile)\n",
    "                \n",
    "    file_dir, file_name = os.path.split(eachfile)\n",
    "    file_name_wo_ext = file_name.split('.docx')[0]\n",
    "    \n",
    "    with open(os.path.join(save_dir, file_name_wo_ext + '.txt'), 'w') as f:\n",
    "        f.write(txt)"
   ]
  },
  {
   "cell_type": "code",
   "execution_count": null,
   "metadata": {},
   "outputs": [],
   "source": []
  }
 ],
 "metadata": {
  "kernelspec": {
   "display_name": "Python 3",
   "language": "python",
   "name": "python3"
  },
  "language_info": {
   "codemirror_mode": {
    "name": "ipython",
    "version": 3
   },
   "file_extension": ".py",
   "mimetype": "text/x-python",
   "name": "python",
   "nbconvert_exporter": "python",
   "pygments_lexer": "ipython3",
   "version": "3.6.9"
  }
 },
 "nbformat": 4,
 "nbformat_minor": 2
}
