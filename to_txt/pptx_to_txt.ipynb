{
 "cells": [
  {
   "cell_type": "code",
   "execution_count": 8,
   "metadata": {},
   "outputs": [
    {
     "name": "stdout",
     "output_type": "stream",
     "text": [
      "../../../../data/00_nh_poc/11_legal_advice_hwp_128/hwp/(113.1)붙임3 원더페이 간편결제 소개서.pptx\n",
      "----------------------\n"
     ]
    }
   ],
   "source": [
    "from pptx import Presentation\n",
    "import os\n",
    "import glob\n",
    "\n",
    "save_dir = '../../../../data/00_nh_poc/11_legal_advice_hwp_128/text_from_pptx/'\n",
    "for eachfile in glob.glob(\"../../../../data/00_nh_poc/11_legal_advice_hwp_128/hwp/\" + \"*.pptx\"):\n",
    "    prs = Presentation(eachfile)\n",
    "    print(eachfile)\n",
    "    print(\"----------------------\")\n",
    "    txt_list = []\n",
    "    for slide in prs.slides:\n",
    "        for shape in slide.shapes:\n",
    "            if hasattr(shape, \"text\"):\n",
    "#                 print(shape.text)\n",
    "                txt_list.append(shape.text)\n",
    "                \n",
    "    file_dir, file_name = os.path.split(eachfile)\n",
    "    file_name_wo_ext = file_name.split('.pptx')[0]\n",
    "    \n",
    "    with open(os.path.join(save_dir, file_name_wo_ext + '.txt'), 'w') as f:\n",
    "        f.write(' '.join(txt_list))"
   ]
  }
 ],
 "metadata": {
  "kernelspec": {
   "display_name": "Python 3",
   "language": "python",
   "name": "python3"
  },
  "language_info": {
   "codemirror_mode": {
    "name": "ipython",
    "version": 3
   },
   "file_extension": ".py",
   "mimetype": "text/x-python",
   "name": "python",
   "nbconvert_exporter": "python",
   "pygments_lexer": "ipython3",
   "version": "3.6.9"
  }
 },
 "nbformat": 4,
 "nbformat_minor": 2
}
