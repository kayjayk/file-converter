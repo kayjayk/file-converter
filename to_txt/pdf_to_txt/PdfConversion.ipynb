{
 "cells": [
  {
   "cell_type": "code",
   "execution_count": 5,
   "metadata": {},
   "outputs": [],
   "source": [
    "import PyPDF4\n",
    "import os"
   ]
  },
  {
   "cell_type": "code",
   "execution_count": 3,
   "metadata": {},
   "outputs": [
    {
     "ename": "FileNotFoundError",
     "evalue": "[Errno 2] No such file or directory: './mlb_predict.pdf'",
     "output_type": "error",
     "traceback": [
      "\u001b[0;31m---------------------------------------------------------------------------\u001b[0m",
      "\u001b[0;31mFileNotFoundError\u001b[0m                         Traceback (most recent call last)",
      "\u001b[0;32m<ipython-input-3-13ba43638d7b>\u001b[0m in \u001b[0;36m<module>\u001b[0;34m\u001b[0m\n\u001b[1;32m      1\u001b[0m \u001b[0;32mimport\u001b[0m \u001b[0mPyPDF4\u001b[0m\u001b[0;34m\u001b[0m\u001b[0;34m\u001b[0m\u001b[0m\n\u001b[1;32m      2\u001b[0m \u001b[0;34m\u001b[0m\u001b[0m\n\u001b[0;32m----> 3\u001b[0;31m \u001b[0mfile\u001b[0m \u001b[0;34m=\u001b[0m \u001b[0mopen\u001b[0m\u001b[0;34m(\u001b[0m\u001b[0;34m\"./mlb_predict.pdf\"\u001b[0m\u001b[0;34m,\u001b[0m \u001b[0;34m'rb'\u001b[0m\u001b[0;34m)\u001b[0m\u001b[0;34m\u001b[0m\u001b[0;34m\u001b[0m\u001b[0m\n\u001b[0m\u001b[1;32m      4\u001b[0m \u001b[0mfileReader\u001b[0m \u001b[0;34m=\u001b[0m \u001b[0mPyPDF2\u001b[0m\u001b[0;34m.\u001b[0m\u001b[0mPdfFileReader\u001b[0m\u001b[0;34m(\u001b[0m\u001b[0mfile\u001b[0m\u001b[0;34m)\u001b[0m\u001b[0;34m\u001b[0m\u001b[0;34m\u001b[0m\u001b[0m\n\u001b[1;32m      5\u001b[0m \u001b[0;34m\u001b[0m\u001b[0m\n",
      "\u001b[0;31mFileNotFoundError\u001b[0m: [Errno 2] No such file or directory: './mlb_predict.pdf'"
     ]
    }
   ],
   "source": [
    "Class PdfConversion(Object):\n",
    "    def __init__(self, file_path):\n",
    "        self.file_dir, self.file_name = os.path.split(file_path)\n",
    "\n",
    "    def pdf_to_txt(self):\n",
    "        file = open(self.file_path, 'rb')\n",
    "        fileReader = PyPDF4.PdfFileReader(file)\n",
    "        fileReader.pageMode()\n",
    "    #     # 문서의 정보\n",
    "    #     fileReader.documentInfo\n",
    "\n",
    "    #     # 전체 페이지수를 출력한다\n",
    "    #     print(fileReader.numPages)\n",
    "\n",
    "        txt_list = []\n",
    "        for i in range(fileReader.getNumpages):\n",
    "            pageObj = fileReader.getPage(i)\n",
    "            txt_list.append(pageObj.extractText())\n",
    "\n",
    "        full_txt = ' '.join(txt_list)\n",
    "\n",
    "        return full_txt\n",
    "\n",
    "    def save_txt(self, save_dir, txt):\n",
    "        file_name_wo_ext = self.file_name.split('.')[0]\n",
    "        with open(os.path.join(self.root_dir, file_name_wo_ext + '.txt', \"w\") as f:\n",
    "            f.write(txt)"
   ]
  }
 ],
 "metadata": {
  "kernelspec": {
   "display_name": "Python 3",
   "language": "python",
   "name": "python3"
  },
  "language_info": {
   "codemirror_mode": {
    "name": "ipython",
    "version": 3
   },
   "file_extension": ".py",
   "mimetype": "text/x-python",
   "name": "python",
   "nbconvert_exporter": "python",
   "pygments_lexer": "ipython3",
   "version": "3.6.9"
  }
 },
 "nbformat": 4,
 "nbformat_minor": 4
}
